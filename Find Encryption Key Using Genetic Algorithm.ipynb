{
 "cells": [
  {
   "cell_type": "markdown",
   "id": "048aeaba",
   "metadata": {},
   "source": [
    "<h1 align=\"center\">Find Enctyption Key Using Genetic Algorithm Artificial Intelligence</h1>"
   ]
  },
  {
   "cell_type": "markdown",
   "id": "63fce1f3",
   "metadata": {},
   "source": [
    "<h2 align=\"center\">University of Tehran</h2>"
   ]
  },
  {
   "cell_type": "markdown",
   "id": "1a5f8392",
   "metadata": {},
   "source": [
    "<h6 align=\"center\">Arash Mohamadpour 810197636</h6>"
   ]
  },
  {
   "cell_type": "markdown",
   "id": "0423db7c",
   "metadata": {},
   "source": [
    "<h3> Introduction </h3>"
   ]
  },
  {
   "cell_type": "markdown",
   "id": "c51efa07",
   "metadata": {},
   "source": [
    "In this assignment we have a ***global text*** and an ***encoded text*** and our goal is to find the ***encryption key*** using the **genetic algorithm**.\n",
    "<br><br>"
   ]
  },
  {
   "cell_type": "markdown",
   "id": "6e9737eb",
   "metadata": {},
   "source": [
    "<h3> Gentic Algorithm </h3>"
   ]
  },
  {
   "cell_type": "markdown",
   "id": "3ffc2778",
   "metadata": {},
   "source": [
    "A genetic algorithm is a heuristic search method used in artificial intelligence and computing. It is used for ‍‍‍‍‍‍‍‍‍‍```finding optimized solutions``` to search problems based on the theory of natural selection and evolutionary biology. Genetic algorithms are excellent for searching through ```large and complex data sets```. They are considered capable of finding reasonable solutions to complex issues as they are highly capable of solving unconstrained and constrained optimization issues."
   ]
  },
  {
   "cell_type": "markdown",
   "id": "54ecdc47",
   "metadata": {},
   "source": [
    "<h4> Population </h4>"
   ]
  },
  {
   "cell_type": "markdown",
   "id": "fb4d95bb",
   "metadata": {},
   "source": [
    "Population is a ```subset of solutions``` in the current generation. It can also be defined as a set of chromosomes. There are several things to be kept in mind when dealing with GA population:\n",
    "- The diversity of the population should be maintained otherwise it might lead to premature convergence.\n",
    "- The population size should not be kept very large as it can cause a GA to slow down, while a smaller population might not be enough for a good mating pool. Therefore, an optimal population size needs to be decided by trial and error.\n",
    "\n",
    "Here we're going to use ```DEFAULT_POPULATION_SIZE```, which is 100."
   ]
  },
  {
   "cell_type": "markdown",
   "id": "60a95bee",
   "metadata": {},
   "source": [
    "<h4> Chromosome </h4>"
   ]
  },
  {
   "cell_type": "markdown",
   "id": "1e267c82",
   "metadata": {},
   "source": [
    "A chromosome is a set of parameters which define a proposed solution to the problem that the genetic algorithm is trying to solve."
   ]
  },
  {
   "cell_type": "markdown",
   "id": "46527338",
   "metadata": {},
   "source": [
    "<h4>Fitness Function</h4>"
   ]
  },
  {
   "cell_type": "markdown",
   "id": "c3f02e0e",
   "metadata": {},
   "source": [
    "Fitness function evaluates how close a given solution is to the optimum solution of the desired problem. It determines how fit a solution is."
   ]
  },
  {
   "cell_type": "markdown",
   "id": "a9b8c34c",
   "metadata": {},
   "source": [
    "<h4>Selection</h4>"
   ]
  },
  {
   "cell_type": "markdown",
   "id": "f7927aab",
   "metadata": {},
   "source": [
    "Selection is the stage of a genetic algorithm in which individual chromosomes are chosen from a population for later breeding.\n",
    "\n",
    "In this assignment I'll use ```rank-based selection```."
   ]
  },
  {
   "cell_type": "markdown",
   "id": "a5b39225",
   "metadata": {},
   "source": [
    "<h5>Rank-based Selection</h5>\n",
    "The population is sorted according to the objective values.\n",
    "The fitness assigned to each individual depends only on its position in the individuals rank.\n",
    "Ranking introduces a uniform scaling across the population and provides a simple and effective way of controlling selective pressure."
   ]
  },
  {
   "cell_type": "code",
   "execution_count": 1,
   "id": "31dc5820",
   "metadata": {},
   "outputs": [],
   "source": [
    "import string, time, re, random\n",
    "import numpy as np\n",
    "from operator import itemgetter"
   ]
  },
  {
   "cell_type": "code",
   "execution_count": 2,
   "id": "2c487137",
   "metadata": {},
   "outputs": [],
   "source": [
    "DEFAULT_POPULATION_SIZE = 150\n",
    "ELITISM_RATE = 0.5\n",
    "CROSSOVER_RATE = 0.9\n",
    "SIZE_TWO = 2\n",
    "alphabet_dict = {'a': 0, 'b': 1, 'c': 2, 'd': 3, 'e': 4, 'f': 5, 'g': 6, 'h': 7, 'i': 8, 'j': 9, 'k': 10, 'l': 11, 'm': 12, 'n': 13, 'o': 14, 'p': 15, 'q': 16, 'r': 17, 's': 18, 't': 19, 'u': 20, 'v': 21, 'w': 22, 'x': 23, 'y': 24, 'z': 25}\n",
    "\n",
    "\n",
    "class Decoder:\n",
    "    \n",
    "    def __init__(self):\n",
    "        self.encoded_text = self.extract_encoded_text();\n",
    "        self.encoded_text = self.clean_text(self.encoded_text)\n",
    "        self.encoded_words = self.encoded_text.split()\n",
    "        \n",
    "        self.create_dictionary()\n",
    "    \n",
    "    def extract_encoded_text(self):\n",
    "        encoded_text = open(\"encoded_text.txt\").read().lower()\n",
    "        return encoded_text\n",
    "    \n",
    "    def create_dictionary(self):\n",
    "        global_text = open(\"global_text.txt\").read().lower()\n",
    "        self.dictionary = set(self.clean_and_get_words(global_text))\n",
    "    \n",
    "    def clean_text(self, text):\n",
    "        text = re.sub(r'[^A-Za-z]', ' ', text)\n",
    "        words = text.split()\n",
    "        clean_text = ' '\n",
    "        for word in words:\n",
    "            clean_text += word\n",
    "            clean_text += ' '\n",
    "        return clean_text\n",
    "    \n",
    "    def clean_and_get_words(self, text):\n",
    "        cleaned_text = self.clean_text(text)\n",
    "        words_set = cleaned_text.split()\n",
    "        return words_set\n",
    "        \n",
    "    def create_random_chromosome(self):\n",
    "        alphabet = list(string.ascii_lowercase)\n",
    "        chromosome = ''\n",
    "        for i in range(14):\n",
    "            random_char = random.choice(alphabet)\n",
    "            chromosome += random_char\n",
    "        \n",
    "        return chromosome\n",
    "    \n",
    "    def decrypt_char(self, enc_char, key):\n",
    "        enc_char_index = string.ascii_lowercase.index(enc_char)\n",
    "        key_index = string.ascii_lowercase.index(key)\n",
    "        position_in_ascii_lowercase = enc_char_index - key_index\n",
    "        if(position_in_ascii_lowercase >= 0):\n",
    "            decrypted_char = self.get_alphabet_by_index(position_in_ascii_lowercase)\n",
    "        else:\n",
    "            decrypted_char = self.get_alphabet_by_index(26 + position_in_ascii_lowercase)\n",
    "        \n",
    "        return decrypted_char\n",
    "    \n",
    "    \n",
    "    def decrypt(self, chromosome):\n",
    "        decrypted_text = ''\n",
    "        chromosome_pos = 0\n",
    "\n",
    "        for i in range(len(self.encoded_text)):\n",
    "            if (self.encoded_text[i] != ' '):\n",
    "                pos = chromosome_pos % 14\n",
    "                decrypted_text += self.decrypt_char(self.encoded_text[i], chromosome[pos])\n",
    "                chromosome_pos += 1\n",
    "            else:\n",
    "                decrypted_text += ' '\n",
    "        return decrypted_text\n",
    "    \n",
    "    def get_decrypted_words(self, chromosome):\n",
    "        decrypted_text = self.decrypt(chromosome)\n",
    "        decrypted_words = decrypted_text.split()\n",
    "        return decrypted_words       \n",
    "            \n",
    "            \n",
    "    \n",
    "    def get_alphabet_by_index(self, position):\n",
    "        for alphabet, index in alphabet_dict.items():\n",
    "            if position == index:\n",
    "                return alphabet\n",
    "    \n",
    "    \n",
    "    def fitness(self, chromosome):\n",
    "        decrypted_words = self.get_decrypted_words(chromosome)\n",
    "        \n",
    "        counter = 0\n",
    "        for decrypted_word in decrypted_words:\n",
    "            if decrypted_word in self.dictionary:\n",
    "                counter += 1\n",
    "                \n",
    "        return counter\n",
    "    \n",
    "    def calculate_and_sort_population_fitness(self, population):\n",
    "        population_scores = [[self.fitness(population[i]), i] for i in range(len(population))]\n",
    "        sorted_population_scores = sorted(population_scores, key=itemgetter(0), reverse = True)\n",
    "        return sorted_population_scores\n",
    "    \n",
    "    def two_point_crossover(self, mother, father):\n",
    "        child = self.create_child(mother, father)\n",
    "        return child\n",
    "            \n",
    "        \n",
    "    def create_child(self, mother, father):\n",
    "            point1 = random.randint(1, 13)\n",
    "            child_chromosome = mother[:point1] + father[point1:]\n",
    "            \n",
    "            return child_chromosome\n",
    "    \n",
    "    \n",
    "    def mutation(self, chromosome):\n",
    "        chromosome = list(chromosome)\n",
    "        for i in range(random.randint(0, 5)):\n",
    "            point1 = random.randint(0, 13)\n",
    "            point2 = random.randint(0, 13)\n",
    "            \n",
    "            temp = chromosome[point1]\n",
    "            chromosome[point1] = chromosome[point2]\n",
    "            chromosome[point2] = temp\n",
    "            \n",
    "        mutated_chromosome = \"\".join(chromosome)\n",
    "\n",
    "        return mutated_chromosome\n",
    "    \n",
    "    \n",
    "    def run_genetic_algorithm(self):\n",
    "        words_len = len(self.encoded_words)\n",
    "        population = [self.create_random_chromosome() for i in range(DEFAULT_POPULATION_SIZE)]\n",
    "        \n",
    "        sum_of_ranks = (len(population) + 1)/2\n",
    "        ranks_probabilities = [(i+1)/sum_of_ranks for i in range(len(population))]\n",
    "        ranks_probabilities = sorted(ranks_probabilities, reverse = True)\n",
    "       \n",
    "        while True:\n",
    "            sorted_population_scores = self.calculate_and_sort_population_fitness(population)\n",
    "            \n",
    "            if sorted_population_scores[0][0] >= words_len:\n",
    "                chromosome = population[sorted_population_scores[0][1]]\n",
    "                print(\"The encryption key is: \")\n",
    "                print(chromosome , \"\\n\")\n",
    "                \n",
    "                return self.decrypt(chromosome)\n",
    "\n",
    "          \n",
    "            new_population = []\n",
    "            new_population.extend([population[sorted_population_scores[i][1]] for i in range(int(DEFAULT_POPULATION_SIZE*ELITISM_RATE))])\n",
    "            \n",
    "            size = int(CROSSOVER_RATE*DEFAULT_POPULATION_SIZE) \n",
    "            \n",
    "            for i in range(size):\n",
    "                mother, father = np.random.choice(len(population), SIZE_TWO, ranks_probabilities)\n",
    "                offspring = self.two_point_crossover(population[mother] , population[father]) \n",
    "                new_population.append(self.mutation(offspring))\n",
    "\n",
    "            population = new_population\n",
    "    "
   ]
  },
  {
   "cell_type": "markdown",
   "id": "9c9837d8",
   "metadata": {},
   "source": [
    "<br><br>"
   ]
  },
  {
   "cell_type": "markdown",
   "id": "5ed407c2",
   "metadata": {},
   "source": [
    "<h3>Running the test and decrypting the text</h3>"
   ]
  },
  {
   "cell_type": "code",
   "execution_count": 3,
   "id": "52ac0084",
   "metadata": {},
   "outputs": [
    {
     "name": "stdout",
     "output_type": "stream",
     "text": [
      "The encryption key is: \n",
      "alberteinstein \n",
      "\n",
      "Time: 80.45991826057434\n"
     ]
    }
   ],
   "source": [
    "decoder = Decoder()\n",
    "\n",
    "start = time.time()\n",
    "decodedText = decoder.run_genetic_algorithm()\n",
    "end = time.time()\n",
    "\n",
    "print(\"Time: \" + str(end-start), end=\"\\n\")"
   ]
  },
  {
   "cell_type": "code",
   "execution_count": 4,
   "id": "e0b93035",
   "metadata": {},
   "outputs": [
    {
     "name": "stdout",
     "output_type": "stream",
     "text": [
      " albert einstein old grove rd nassau point peconic long island august nd f d roosevelt president of the united states white house washington d c sir some recent work by e fermi and l szilard which has been communicated to me in manuscript leads me to expect that the element uranium may be turned into a new and important source of energy in the immediate future certain aspects of the situation which has arisen seem to call for watchfulness and if necessary quick action on the part of the administration i believe therefore that it is my duty to bring to your attention the following facts and recommendations in the course of the last four months it has been made probable through the work of joliot in france as well as fermi and szilard in america that it may become possible to set up a nuclear chain reaction in a large mass of uranium by which vast amounts of power and large quantities of new radium like elements would be generated now it appears almost certain that this could be achieved in the immediate future this phenomenon would also lead to the construction of bombs and it is conceivable though much less certain that extremely powerful bombs of a new type may thus be constructed a single bomb of this type carried by boat and exploded in a port might very well destroy the whole port together with some of the surrounding territory however such bombs might very well prove to be too heavy for transportation by air the united states has only very poor ores of uranium in moderate quantities there is some good ore in canada and the former czechoslovakia while the most important source of uranium is belgian congo in view of this situation you may think it desirable to have some permanent contact maintained between the administration and the group of physicists working on chain reactions in america one possible way of achieving this might be for you to entrust with this task a person who has your confidence and who could perhaps serve in an inofficial capacity his task might comprise the following a to approach government departments keep them informed of the further development and put forward recommendations for government action giving particular attention to the problem of securing a supply of uranium ore for the united states b to speed up the experimental work which is at present being carried on within the limits of the budgets of university laboratories by providing funds if such funds be required through his contacts with private persons who are willing to make contributions for this cause and perhaps also by obtaining the co operation of industrial laboratories which have the necessary equipment i understand that germany has actually stopped the sale of uranium from the czechoslovakian mines which she has taken over that she should have taken such early action might perhaps be understood on the ground that the son of the german under secretary of state von weizsacker is attached to the kaiser wilhelm institut in berlin where some of the american work on uranium is now being repeated yours very truly albert einstein \n"
     ]
    }
   ],
   "source": [
    "print(decodedText)"
   ]
  },
  {
   "cell_type": "code",
   "execution_count": null,
   "id": "6619f7ac",
   "metadata": {},
   "outputs": [],
   "source": []
  }
 ],
 "metadata": {
  "kernelspec": {
   "display_name": "Python 3 (ipykernel)",
   "language": "python",
   "name": "python3"
  },
  "language_info": {
   "codemirror_mode": {
    "name": "ipython",
    "version": 3
   },
   "file_extension": ".py",
   "mimetype": "text/x-python",
   "name": "python",
   "nbconvert_exporter": "python",
   "pygments_lexer": "ipython3",
   "version": "3.9.7"
  }
 },
 "nbformat": 4,
 "nbformat_minor": 5
}
